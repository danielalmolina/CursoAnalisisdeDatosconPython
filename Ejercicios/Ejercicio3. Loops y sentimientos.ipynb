{
 "cells": [
  {
   "cell_type": "markdown",
   "id": "ec78f048-2e44-49ca-8090-163049717972",
   "metadata": {},
   "source": [
    "# Ejercicio 3. Iteración con loops y analisis de sentimientos"
   ]
  },
  {
   "cell_type": "markdown",
   "id": "f7e7e8c9-bdde-42f6-9e78-fa0eff4f6e3b",
   "metadata": {},
   "source": [
    "#### Alumna: Daniela Lizeth Molina Barrera"
   ]
  },
  {
   "cell_type": "markdown",
   "id": "b912dd06-125e-4152-b297-93c2778b3dae",
   "metadata": {},
   "source": [
    "Supongamos que realizamos una encuesta para evaluar la calidad de un servicio. Para ello, realizamos un formulario en donde le pedimos a los clientes que comenten sobre el servicio que proveemos.\n",
    "\n",
    "En este problema, analizaremos estos comentarios ficticios y averiguaremos si el sentimiento general de los usuarios de Zophia es de satisfaccion o no. Esta es una versión simplificada de un importante problema del mundo real llamado análisis de sentimientos.\n",
    "\n",
    "Antes de empezar, necesitamos una lista de comentarios para analizar. Estamos eligiendo un pequeño número de comentarios aquí, pero el mismo análisis también se puede hacer para miles, o incluso millones de comentarios.\n",
    "\n",
    "En la celda de abajo tenemos algunos de los comentarios de los usuarios, ya insertados en una lista:"
   ]
  },
  {
   "cell_type": "code",
   "execution_count": 1,
   "id": "10a965fa-9f00-4bfe-b9b4-9242fd21d604",
   "metadata": {},
   "outputs": [],
   "source": [
    "comentarios = [\n",
    "    \"Wow, ¡qué gran servicio!\",\n",
    "    \"Aprendí mucho con ustedes\",\n",
    "    \"Estoy muy emocionada por aprender más de análisis de datos con Zophia\",\n",
    "    \"Curso de calidad\",\n",
    "    \"Un curso del montón\",\n",
    "    \"Aprendí muchísimo\",\n",
    "    \"Está bien pero tienen áreas de oportunidad\",\n",
    "    \"Bueno. Pero podrían mejorar\",\n",
    "    \"Me siento estafado\",\n",
    "    \"Zophia tiene tutoriales geniales de análisis de datos\",\n",
    "    \"Definitivamente, volveré a tomar un curso con ustedes\",\n",
    "    \"Malo\",\n",
    "    \"Cumplió con mis expectativas\",\n",
    "    \"Bien explicado, pero le falta\",\n",
    "    \"Bueno\"\n",
    "              ]"
   ]
  },
  {
   "cell_type": "code",
   "execution_count": 2,
   "id": "8cae86ce-92d0-4987-955e-81f6bf7e1a4f",
   "metadata": {},
   "outputs": [
    {
     "data": {
      "text/plain": [
       "15"
      ]
     },
     "execution_count": 2,
     "metadata": {},
     "output_type": "execute_result"
    }
   ],
   "source": [
    "num_coment = len(comentarios)\n",
    "num_coment"
   ]
  },
  {
   "cell_type": "code",
   "execution_count": 3,
   "id": "37e8c861-4c46-45c3-93b6-60d770a9fbef",
   "metadata": {},
   "outputs": [
    {
     "data": {
      "text/plain": [
       "['Wow',\n",
       " 'gran',\n",
       " 'mucho',\n",
       " 'emocionada',\n",
       " 'calidad',\n",
       " 'muchísimo',\n",
       " 'geniales',\n",
       " 'volveré',\n",
       " 'Cumplió']"
      ]
     },
     "execution_count": 3,
     "metadata": {},
     "output_type": "execute_result"
    }
   ],
   "source": [
    "# crear un diccionario de las palabras que considero \"buenos comentarios\"\n",
    "comentarios_buenos = ['Wow', 'gran', 'mucho', 'emocionada', 'calidad', 'muchísimo', 'geniales', 'volveré', 'Cumplió']\n",
    "comentarios_buenos"
   ]
  },
  {
   "cell_type": "code",
   "execution_count": 4,
   "id": "17d0910b-ae98-45a8-9419-a7f27deb46c1",
   "metadata": {},
   "outputs": [
    {
     "data": {
      "text/plain": [
       "['Está bien', 'Bueno', 'Bien']"
      ]
     },
     "execution_count": 4,
     "metadata": {},
     "output_type": "execute_result"
    }
   ],
   "source": [
    "# crear un diccionario de las palabras que considero \"comentarios neutrales\"\n",
    "comentarios_neutrales = ['Está bien', 'Bueno', 'Bien']\n",
    "comentarios_neutrales"
   ]
  },
  {
   "cell_type": "code",
   "execution_count": 5,
   "id": "0a9dd519-4a5a-4aff-884f-28e0799e9909",
   "metadata": {},
   "outputs": [
    {
     "data": {
      "text/plain": [
       "['montón', 'estafado', 'Malo']"
      ]
     },
     "execution_count": 5,
     "metadata": {},
     "output_type": "execute_result"
    }
   ],
   "source": [
    "# crear un diccionario de las palabras que considero \"malos comentarios\"\n",
    "comentarios_malos = ['montón', 'estafado', 'Malo']\n",
    "comentarios_malos"
   ]
  },
  {
   "cell_type": "markdown",
   "id": "92c79701-7c36-4e7c-8a30-394bc03dd898",
   "metadata": {},
   "source": [
    "1. Calcula la proporción de comentarios neutrales"
   ]
  },
  {
   "cell_type": "code",
   "execution_count": 6,
   "id": "4c75f6be-3382-42c8-9abe-7c968dd06d01",
   "metadata": {},
   "outputs": [],
   "source": [
    "# indicamos una variable igual a cero\n",
    "num_comentarios_neutrales = 0"
   ]
  },
  {
   "cell_type": "code",
   "execution_count": 7,
   "id": "ff3b3841-01f5-42ba-8860-cd0ab4250d4a",
   "metadata": {},
   "outputs": [
    {
     "data": {
      "text/plain": [
       "4"
      ]
     },
     "execution_count": 7,
     "metadata": {},
     "output_type": "execute_result"
    }
   ],
   "source": [
    "# realizamos un loop anidado\n",
    "for comentario in comentarios:\n",
    "    for neutral in comentarios_neutrales:\n",
    "        if neutral in comentario:\n",
    "            num_comentarios_neutrales += 1\n",
    "            break\n",
    "\n",
    "num_comentarios_neutrales"
   ]
  },
  {
   "cell_type": "code",
   "execution_count": 9,
   "id": "3ba2ec12-ad81-4097-9f97-82250d9aff4a",
   "metadata": {},
   "outputs": [
    {
     "name": "stdout",
     "output_type": "stream",
     "text": [
      "La proporción de comentarios neutrales es 26.666666666666668\n"
     ]
    }
   ],
   "source": [
    "# calculamos la proporción de comentarios neutrales\n",
    "proportion_comment_neutral = num_comentarios_neutrales/ 15* 100\n",
    "\n",
    "print(\"La proporción de comentarios neutrales es\", proportion_comment_neutral)"
   ]
  },
  {
   "cell_type": "markdown",
   "id": "c2b2d479-1c82-41f8-835e-c168ee915ded",
   "metadata": {},
   "source": [
    "2. Toma 20 opiniones de algun negocio local y realiza el analisis de sentimientos que nosotros hicimos con los comentarios ficticios. Evalua si los comentarios son positivos, negativos o neutrales y asignales un porcentaje correspondiente. Con base en los resultados, emite recomendaciones al negocio."
   ]
  },
  {
   "cell_type": "code",
   "execution_count": 10,
   "id": "d902446e-9ff2-4760-8e4a-e7e36c0734aa",
   "metadata": {},
   "outputs": [
    {
     "data": {
      "text/plain": [
       "['Le falta fuerza',\n",
       " 'Excelente producto, cumplé las expectativas',\n",
       " 'Es una maravilla',\n",
       " 'Recomendable 100%',\n",
       " 'No era lo que esperaba',\n",
       " 'Esperaba que fuera mas silenciosa y rapida',\n",
       " 'La licuadora perfecta para hacer batidos',\n",
       " 'Producto basura',\n",
       " 'Increible licuadora',\n",
       " 'Todo está bien',\n",
       " 'Quedé muy agusto con su desempeño',\n",
       " 'Se raya facilmente',\n",
       " 'No funciona bien',\n",
       " 'Increible licuadora',\n",
       " 'No sirve para hacer batidos, podria mejorarse',\n",
       " 'Primero me encanto, ahora la odio',\n",
       " 'Se quiebra con facilidad',\n",
       " 'Su funcionamiento no es el adecuado',\n",
       " 'Buen tamaño, facil de lavar y muele perfecto',\n",
       " 'Cumplé con lo esperado']"
      ]
     },
     "execution_count": 10,
     "metadata": {},
     "output_type": "execute_result"
    }
   ],
   "source": [
    "reseñas = [\n",
    "    'Le falta fuerza',\n",
    "    'Excelente producto, cumplé las expectativas',\n",
    "    'Es una maravilla',\n",
    "    'Recomendable 100%',\n",
    "    'No era lo que esperaba',\n",
    "    'Esperaba que fuera mas silenciosa y rapida',\n",
    "    'La licuadora perfecta para hacer batidos',\n",
    "    'Producto basura',\n",
    "    'Increible licuadora',\n",
    "    'Todo está bien',\n",
    "    'Quedé muy agusto con su desempeño',\n",
    "    'Se raya facilmente',\n",
    "    'No funciona bien',\n",
    "    'Increible licuadora',\n",
    "    'No sirve para hacer batidos, podria mejorarse',\n",
    "    'Primero me encanto, ahora la odio',\n",
    "    'Se quiebra con facilidad',\n",
    "    'Su funcionamiento no es el adecuado',\n",
    "    'Buen tamaño, facil de lavar y muele perfecto',\n",
    "    'Cumplé con lo esperado'\n",
    "]\n",
    "\n",
    "reseñas"
   ]
  },
  {
   "cell_type": "code",
   "execution_count": 11,
   "id": "d44e5bd8",
   "metadata": {},
   "outputs": [
    {
     "data": {
      "text/plain": [
       "20"
      ]
     },
     "execution_count": 11,
     "metadata": {},
     "output_type": "execute_result"
    }
   ],
   "source": [
    "# verificar el numero de comentarios\n",
    "numero_comentarios = len(reseñas)\n",
    "numero_comentarios"
   ]
  },
  {
   "cell_type": "code",
   "execution_count": 12,
   "id": "7d3ba4db",
   "metadata": {},
   "outputs": [
    {
     "data": {
      "text/plain": [
       "['Excelente', 'maravilla', 'perfecta', 'Increible', 'agusto', 'buen', 'cumplé']"
      ]
     },
     "execution_count": 12,
     "metadata": {},
     "output_type": "execute_result"
    }
   ],
   "source": [
    "# comentarios positivos\n",
    "comentarios_positivos = ['Excelente','maravilla','perfecta','Increible','agusto','buen','cumplé']\n",
    "comentarios_positivos"
   ]
  },
  {
   "cell_type": "code",
   "execution_count": 13,
   "id": "96c1aadd",
   "metadata": {},
   "outputs": [
    {
     "data": {
      "text/plain": [
       "['falta',\n",
       " 'esperaba',\n",
       " 'está bien',\n",
       " 'mejorarse',\n",
       " 'esperado',\n",
       " 'falta',\n",
       " 'esperado']"
      ]
     },
     "execution_count": 13,
     "metadata": {},
     "output_type": "execute_result"
    }
   ],
   "source": [
    "# comentarios neutrales\n",
    "comentarios_neutrales = ['falta','esperaba','está bien','mejorarse','esperado','falta','esperado']\n",
    "comentarios_neutrales"
   ]
  },
  {
   "cell_type": "code",
   "execution_count": 14,
   "id": "a01f4218",
   "metadata": {},
   "outputs": [
    {
     "data": {
      "text/plain": [
       "['adecuado', 'quiebra', 'odio', 'raya', 'No', 'basura']"
      ]
     },
     "execution_count": 14,
     "metadata": {},
     "output_type": "execute_result"
    }
   ],
   "source": [
    "# comentarios negativos\n",
    "comentarios_negativos = ['adecuado','quiebra','odio','raya','No','basura']\n",
    "comentarios_negativos"
   ]
  },
  {
   "cell_type": "markdown",
   "id": "f7a9a201",
   "metadata": {},
   "source": [
    "* Calculamos la cantidad y proporción de numeros positivos"
   ]
  },
  {
   "cell_type": "code",
   "execution_count": 15,
   "id": "7e7738cc",
   "metadata": {},
   "outputs": [],
   "source": [
    "# indicamos una variable igual a cero\n",
    "numero_comentarios_positivos = 0\n",
    "numero_comentarios_neutrales = 0\n",
    "numero_comentarios_negativos = 0"
   ]
  },
  {
   "cell_type": "code",
   "execution_count": 16,
   "id": "9b26d652",
   "metadata": {},
   "outputs": [
    {
     "data": {
      "text/plain": [
       "6"
      ]
     },
     "execution_count": 16,
     "metadata": {},
     "output_type": "execute_result"
    }
   ],
   "source": [
    "# realizamos el loop positivo\n",
    "for reseña in reseñas:\n",
    "    for positivo in comentarios_positivos:\n",
    "        if positivo in reseña:\n",
    "            numero_comentarios_positivos += 1\n",
    "            break\n",
    "\n",
    "numero_comentarios_positivos"
   ]
  },
  {
   "cell_type": "code",
   "execution_count": 17,
   "id": "3e6147ab",
   "metadata": {},
   "outputs": [
    {
     "data": {
      "text/plain": [
       "5"
      ]
     },
     "execution_count": 17,
     "metadata": {},
     "output_type": "execute_result"
    }
   ],
   "source": [
    "# realizamos el loop neutrales\n",
    "for reseña in reseñas:\n",
    "    for neutral in comentarios_neutrales:\n",
    "        if neutral in reseña:\n",
    "            numero_comentarios_neutrales += 1\n",
    "            break\n",
    "\n",
    "numero_comentarios_neutrales"
   ]
  },
  {
   "cell_type": "code",
   "execution_count": 18,
   "id": "2e54a826",
   "metadata": {},
   "outputs": [
    {
     "data": {
      "text/plain": [
       "8"
      ]
     },
     "execution_count": 18,
     "metadata": {},
     "output_type": "execute_result"
    }
   ],
   "source": [
    "# realizamos el loop negativos\n",
    "for reseña in reseñas:\n",
    "    for negativo in comentarios_negativos:\n",
    "        if negativo in reseña:\n",
    "            numero_comentarios_negativos += 1\n",
    "            break\n",
    "\n",
    "numero_comentarios_negativos"
   ]
  },
  {
   "cell_type": "code",
   "execution_count": 19,
   "id": "5f3db5c1",
   "metadata": {},
   "outputs": [
    {
     "name": "stdout",
     "output_type": "stream",
     "text": [
      "La proporción de comentarios positivos es de  30.0 %\n"
     ]
    }
   ],
   "source": [
    "# proporción de comentarios positivos\n",
    "proporcion_positivos = numero_comentarios_positivos/ 20 *100\n",
    "\n",
    "enunciado_proporcion_positivos = print(\"La proporción de comentarios positivos es de \", proporcion_positivos, \"%\")"
   ]
  },
  {
   "cell_type": "code",
   "execution_count": 20,
   "id": "4743ada3",
   "metadata": {},
   "outputs": [
    {
     "name": "stdout",
     "output_type": "stream",
     "text": [
      "La proporción de comentarios neutrales es de  25.0 %\n"
     ]
    }
   ],
   "source": [
    "# proporción de comentarios neutrales\n",
    "proporcion_neutrales = numero_comentarios_neutrales/ 20 *100\n",
    "\n",
    "enunciado_proporcion_neutrales = print(\"La proporción de comentarios neutrales es de \", proporcion_neutrales, \"%\")"
   ]
  },
  {
   "cell_type": "code",
   "execution_count": 21,
   "id": "ed013cf1",
   "metadata": {},
   "outputs": [
    {
     "name": "stdout",
     "output_type": "stream",
     "text": [
      "La proporción de comentarios negativos es de  40.0 %\n"
     ]
    }
   ],
   "source": [
    "# proporción de comentarios positivos\n",
    "proporcion_negativos = numero_comentarios_negativos/ 20 *100\n",
    "\n",
    "enunciado_proporcion_negativos = print(\"La proporción de comentarios negativos es de \", proporcion_negativos, \"%\")"
   ]
  },
  {
   "cell_type": "markdown",
   "id": "f4375e19",
   "metadata": {},
   "source": [
    "* Realiza recomendaciones de acuerdo a la proporción de comentarios positivos, negativos y neutrales"
   ]
  },
  {
   "cell_type": "markdown",
   "id": "7246705d",
   "metadata": {},
   "source": [
    "<b> Recomendaciones </b> :\n",
    "\n",
    "Se analizaron 20 comentarios de los cuales se tuvieron los siguientes hallazgos:\n",
    " * La proporción de comentarios positivos es de  30.0 %\n",
    " * La proporción de comentarios neutrales es de  25.0 %\n",
    " * La proporción de comentarios negativos es de  40.0 %\n",
    " \n",
    " Donde los comentarios negativos de parte de los clientes predominan, donde la principal queja es la facilidad con la que se rayan o quibran los vasos de la licuadora, por lo tanto, se recomienda mejorar la calidad de materiales con los que se producen las licuadoras asi como especificar los productos que puede moler la licuadora."
   ]
  },
  {
   "cell_type": "markdown",
   "id": "86014648-b90c-49a8-a517-77a3c1d461cf",
   "metadata": {},
   "source": [
    "3. En este ejemplo, nosotros utilizamos palabras positivas o negativas para evaluar la calidad de un servicio. ¿Cómo podríamos evaluar la intención de los comentarios? Por ejemplo, que pasa si alguien escribe: \"aprendí un montón\". ¿Cómo podríamos diferenciar un comentario positivo de uno negativo? Tip: puedes revisar este paper https://icwsm.org/papers/3--Godbole-Srinivasaiah-Skiena.pdf y otros similares. "
   ]
  },
  {
   "cell_type": "markdown",
   "id": "0ead5ad1",
   "metadata": {},
   "source": [
    "<b> Respuesta: </b>\n",
    "\n",
    "Se analizan las palabras clave dentro de las reseñas y se clasifican de acuerdo a nuestro criterio en positivas, negativas y neutrales. Aunque tambien ya existen paqueterias creadas que te ayudan a realizar el sentimental analysis. O incorporando algorimos asociados con la polaridad de las palabras que usamos como referencia y de esta forma asignando scores a cada palabra."
   ]
  },
  {
   "cell_type": "markdown",
   "id": "c9eb89ab-8b1a-43e6-8eef-1772c40c42ad",
   "metadata": {},
   "source": [
    "4. ¿Cómo podríamos realizar este ejercicio a gran escala (con miles o millones de entradas)?"
   ]
  },
  {
   "cell_type": "markdown",
   "id": "b512a360",
   "metadata": {},
   "source": [
    "<b> Respuesta: </b>\n",
    "\n",
    "Muchas veces se puede realizar ejercicios a gran escala con ayuda de paqueterias creadas para ese tipo de ejercicios, que se hacen con ayuda de API's."
   ]
  },
  {
   "cell_type": "markdown",
   "id": "cdaa31fb-6d21-43e6-ab2a-4ca7d6edc5b1",
   "metadata": {},
   "source": [
    "5. Reescribe los While loops utilizados como ejemplo en este Notebook de manera que se conviertan en un código más limpio."
   ]
  },
  {
   "cell_type": "code",
   "execution_count": null,
   "id": "a1ef32a1-f263-47fd-b6b2-2e77070cfdcc",
   "metadata": {},
   "outputs": [],
   "source": []
  },
  {
   "cell_type": "markdown",
   "id": "5d39b2fb-604b-4e43-ad95-09ae0f8fce9a",
   "metadata": {},
   "source": []
  },
  {
   "cell_type": "code",
   "execution_count": null,
   "id": "a97df2a7-2db9-4233-b042-d91b7d8574eb",
   "metadata": {},
   "outputs": [],
   "source": []
  }
 ],
 "metadata": {
  "kernelspec": {
   "display_name": "Python 3",
   "language": "python",
   "name": "python3"
  },
  "language_info": {
   "codemirror_mode": {
    "name": "ipython",
    "version": 3
   },
   "file_extension": ".py",
   "mimetype": "text/x-python",
   "name": "python",
   "nbconvert_exporter": "python",
   "pygments_lexer": "ipython3",
   "version": "3.6.13"
  }
 },
 "nbformat": 4,
 "nbformat_minor": 5
}
