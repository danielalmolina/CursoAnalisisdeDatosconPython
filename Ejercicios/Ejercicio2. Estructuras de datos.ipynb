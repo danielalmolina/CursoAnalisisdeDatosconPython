{
 "cells": [
  {
   "cell_type": "markdown",
   "id": "e0c1a742",
   "metadata": {},
   "source": [
    "# Ejercicio 2. Estructuras de datos"
   ]
  },
  {
   "cell_type": "markdown",
   "id": "9c4e06f5",
   "metadata": {},
   "source": [
    "#### Alumna: Daniela Lizeth Molina Barrera"
   ]
  },
  {
   "cell_type": "markdown",
   "id": "6f89104d",
   "metadata": {},
   "source": [
    "1. Enumera las diferencias entre datos y estructuras de datos y menciona ejemplos de cada uno."
   ]
  },
  {
   "cell_type": "markdown",
   "id": "c3140ee6",
   "metadata": {},
   "source": [
    "<b>Datos</b>\n",
    "* Un conjunto de valores que tienen una serie de caracteristicas y propiedades determinadas\n",
    "* Todo valor que pueda ser asignado a una variable \n",
    "* Establece los valores que puede tomar una variable \n",
    "* Los tipos de datos básicos son los booleanos, numéricos y cadenas de caracteres\n",
    "\n",
    "<b> Estructuras de datos </b>\n",
    "* Es una coleccion de valores organizados y administrados\n",
    "* Puede guardar una gran cantidad de datos\n",
    "* Tambien puede ser considerado un dato compuesto, debido a que en la misma variable podemos almacenar una estructura completa\n",
    "* Las estructuras de datos mas comunes son las listas, tablas y diccionarios."
   ]
  },
  {
   "cell_type": "markdown",
   "id": "5b1a2a39",
   "metadata": {},
   "source": [
    "2. ¿Cuál es el propósito de None? Para qué existe?"
   ]
  },
  {
   "cell_type": "markdown",
   "id": "0c838ee0",
   "metadata": {},
   "source": [
    "Es a menudo utilizado cuando se quiere crear una variable pero aún no se le quiere asignar ningún valor en particular. Existe para crear o asignar una variable pero sin otorgarle aun un valor especifico y posteriormente utilizar esa variable y asignarle un valor"
   ]
  },
  {
   "cell_type": "markdown",
   "id": "823a5cf3",
   "metadata": {},
   "source": [
    "3. Crea una lista que contenga los siguientes 3 elementos\n",
    "- tu color favorito.\n",
    "- el número de plantas que tienes en casa/oficina.\n",
    "- un valor booleano que describa si tienes experiencia previa en programación"
   ]
  },
  {
   "cell_type": "code",
   "execution_count": 12,
   "id": "02406972",
   "metadata": {},
   "outputs": [
    {
     "data": {
      "text/plain": [
       "['azul', '3', True]"
      ]
     },
     "execution_count": 12,
     "metadata": {},
     "output_type": "execute_result"
    }
   ],
   "source": [
    "danni_lista = ['azul', '3', True]\n",
    "danni_lista"
   ]
  },
  {
   "cell_type": "markdown",
   "id": "b6fd6e1b",
   "metadata": {},
   "source": [
    "3. Añade un número de una sola cifra al final de la lista utilizando el método de lista apropiado.\n",
    "Elimina el primer elemento de la lista, utilizando el método de lista apropiado. Por último, realiza una copia de la lista y únela a la original."
   ]
  },
  {
   "cell_type": "code",
   "execution_count": 13,
   "id": "be95efdd",
   "metadata": {},
   "outputs": [
    {
     "data": {
      "text/plain": [
       "['azul', '3', True, 13022022]"
      ]
     },
     "execution_count": 13,
     "metadata": {},
     "output_type": "execute_result"
    }
   ],
   "source": [
    "# añade un numero de una sola cifra al final de la lista \n",
    "danni_lista.append(13022022)\n",
    "danni_lista"
   ]
  },
  {
   "cell_type": "code",
   "execution_count": 14,
   "id": "eb130f73",
   "metadata": {},
   "outputs": [
    {
     "data": {
      "text/plain": [
       "['3', True, 13022022]"
      ]
     },
     "execution_count": 14,
     "metadata": {},
     "output_type": "execute_result"
    }
   ],
   "source": [
    "# elimina el primer elemento de la lista\n",
    "danni_lista.pop(0)\n",
    "danni_lista"
   ]
  },
  {
   "cell_type": "code",
   "execution_count": 15,
   "id": "1c353de1",
   "metadata": {},
   "outputs": [
    {
     "data": {
      "text/plain": [
       "['3', True, 13022022]"
      ]
     },
     "execution_count": 15,
     "metadata": {},
     "output_type": "execute_result"
    }
   ],
   "source": [
    "# realiza una copia de la lista\n",
    "danni_lista_copia = danni_lista.copy()\n",
    "danni_lista_copia"
   ]
  },
  {
   "cell_type": "code",
   "execution_count": 19,
   "id": "cdeb482b",
   "metadata": {},
   "outputs": [
    {
     "name": "stdout",
     "output_type": "stream",
     "text": [
      "['3', True, 13022022, '3', True, 13022022, '3', True, 13022022, '3', True, 13022022]\n"
     ]
    }
   ],
   "source": [
    "# une la copia de la lista con la original\n",
    "# opcion 1 \n",
    "danni_lista.extend(danni_lista_copia)\n",
    "print(danni_lista)"
   ]
  },
  {
   "cell_type": "code",
   "execution_count": 17,
   "id": "e9c4701a",
   "metadata": {},
   "outputs": [
    {
     "data": {
      "text/plain": [
       "['3', True, 13022022, '3', True, 13022022, '3', True, 13022022]"
      ]
     },
     "execution_count": 17,
     "metadata": {},
     "output_type": "execute_result"
    }
   ],
   "source": [
    "# opcion 2 \n",
    "opcion2 = danni_lista + danni_lista_copia\n",
    "print(opcion2)"
   ]
  },
  {
   "cell_type": "code",
   "execution_count": null,
   "id": "e0818e33",
   "metadata": {},
   "outputs": [],
   "source": []
  }
 ],
 "metadata": {
  "kernelspec": {
   "display_name": "Python 3",
   "language": "python",
   "name": "python3"
  },
  "language_info": {
   "codemirror_mode": {
    "name": "ipython",
    "version": 3
   },
   "file_extension": ".py",
   "mimetype": "text/x-python",
   "name": "python",
   "nbconvert_exporter": "python",
   "pygments_lexer": "ipython3",
   "version": "3.6.15"
  }
 },
 "nbformat": 4,
 "nbformat_minor": 5
}
