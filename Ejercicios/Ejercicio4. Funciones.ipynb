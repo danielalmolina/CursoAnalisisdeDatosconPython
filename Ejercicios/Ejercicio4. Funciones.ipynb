{
 "cells": [
  {
   "cell_type": "markdown",
   "id": "f9a9164a",
   "metadata": {},
   "source": [
    "# Ejercicio 4. Funciones en Python"
   ]
  },
  {
   "cell_type": "markdown",
   "id": "2c58cac9",
   "metadata": {},
   "source": [
    "#### Alumna: Daniela Lizeth Molina Barrera"
   ]
  },
  {
   "cell_type": "markdown",
   "id": "fffd3c81",
   "metadata": {},
   "source": [
    "1. Define una función que imprima el nombre de una ciudad y un país. Estos nombres deben empezar con mayúsculas."
   ]
  },
  {
   "cell_type": "code",
   "execution_count": 3,
   "id": "80ba7cbb",
   "metadata": {},
   "outputs": [
    {
     "name": "stdout",
     "output_type": "stream",
     "text": [
      "Iré de vacaciones a Brujas.\n",
      "Se encuentra en Alemania.\n"
     ]
    }
   ],
   "source": [
    "def describir_capitales(name_city, name_country):\n",
    "    print(f\"Iré de vacaciones a {name_city.title()}.\")\n",
    "    print(f\"Se encuentra en {name_country.title()}.\") \n",
    "describir_capitales('brujas', 'alemania') "
   ]
  },
  {
   "cell_type": "code",
   "execution_count": 4,
   "id": "bd6bca32",
   "metadata": {},
   "outputs": [
    {
     "name": "stdout",
     "output_type": "stream",
     "text": [
      "Iré de vacaciones a Perth.\n",
      "Se encuentra en Australia.\n"
     ]
    }
   ],
   "source": [
    "describir_capitales('perth', 'australia')"
   ]
  },
  {
   "cell_type": "markdown",
   "id": "ecc9048d",
   "metadata": {},
   "source": [
    "2. En la primera notebook resolvimos un problema de un a agencia de viajes ¿Cómo describirías ese mismo problema utilizando funciones?"
   ]
  },
  {
   "cell_type": "markdown",
   "id": "7389c925",
   "metadata": {},
   "source": [
    "*** Tania quiere comprar un departamento y rentarlo para obtener ingresos extra. Puede comprar un departamento de dos recamaras por 3,450,000 pesos y alquilarlo por 12,500 pesos al mes. Los costos mensuales totales (impuestos,mantenimiento,etc) serán de 3,000 pesos. ¿Cuál es el rendimiento de su inversión inmobiliaria? Toma en cuenta que para calcular el rendimiento, debes utilizar el cociente = (Ganancias anuales netas / inversión) * 100 ***"
   ]
  },
  {
   "cell_type": "code",
   "execution_count": 49,
   "id": "7a364011",
   "metadata": {},
   "outputs": [],
   "source": [
    "def ganancias(alquiler, costos_mensuales):\n",
    "    ganancias_anuales_netas = (alquiler - costos_mensuales) *12 \n",
    "    return ganancias_anuales_netas"
   ]
  },
  {
   "cell_type": "code",
   "execution_count": 50,
   "id": "4b65bb83",
   "metadata": {},
   "outputs": [
    {
     "data": {
      "text/plain": [
       "114000"
      ]
     },
     "execution_count": 50,
     "metadata": {},
     "output_type": "execute_result"
    }
   ],
   "source": [
    "ganancias(12500,3000)"
   ]
  },
  {
   "cell_type": "markdown",
   "id": "28c4763e",
   "metadata": {},
   "source": [
    "* Ahora generamos una función donde introducimos la variable inversión"
   ]
  },
  {
   "cell_type": "code",
   "execution_count": 51,
   "id": "d41d3f61",
   "metadata": {},
   "outputs": [],
   "source": [
    "# esta es la función final o completa que considera todos los valores del problema\n",
    "def rendimiento_inversion(alquiler,costos_mensuales, costo_departamento):\n",
    "    rendimientos = ((alquiler - costos_mensuales) * 12 / costo_departamento)* 100\n",
    "    return rendimientos"
   ]
  },
  {
   "cell_type": "code",
   "execution_count": 52,
   "id": "25c744ee",
   "metadata": {},
   "outputs": [
    {
     "data": {
      "text/plain": [
       "3.304347826086956"
      ]
     },
     "execution_count": 52,
     "metadata": {},
     "output_type": "execute_result"
    }
   ],
   "source": [
    "rendimiento_inversion (12500, 3000, 3450000)"
   ]
  },
  {
   "cell_type": "markdown",
   "id": "98d7a513",
   "metadata": {},
   "source": [
    "3. Opcional. Define una función que consideres que resuelve algún problema en tu área de trabajo. Defínela paso a paso."
   ]
  },
  {
   "cell_type": "markdown",
   "id": "5d8bbfbb",
   "metadata": {},
   "source": [
    "<b> Ejemplo de problema: </b>\n",
    "Construye un informe de combustible que requiere información de varias ubicaciones de combustible en todo el cohete. Donde se extraiga el cálculo promedio de la función en una nueva función para que el promedio se pueda hacer de forma independiente:"
   ]
  },
  {
   "cell_type": "code",
   "execution_count": 53,
   "id": "2c11904f",
   "metadata": {},
   "outputs": [],
   "source": [
    "# Función para leer 3 tanques de combustible y muestre el promedio\n",
    "def reporte(medio_tanque, tanque_externo, tanque_hidrogeno):\n",
    "    total_promedio = (medio_tanque + tanque_externo + tanque_hidrogeno) / 3\n",
    "    return f\"\"\"Reporte:\n",
    "    Total Promedio: {total_promedio} %\n",
    "    Medio tanque: {medio_tanque} %\n",
    "    Tanque externo: {tanque_externo} %\n",
    "    Tanque de hidrogeno: {tanque_hidrogeno}%\n",
    "    \"\"\""
   ]
  },
  {
   "cell_type": "code",
   "execution_count": 54,
   "id": "7fce049e",
   "metadata": {},
   "outputs": [
    {
     "data": {
      "text/plain": [
       "82.0"
      ]
     },
     "execution_count": 54,
     "metadata": {},
     "output_type": "execute_result"
    }
   ],
   "source": [
    "# Función promedio \n",
    "def promedio(valores):\n",
    "    total = sum(valores)\n",
    "    numero = len(valores)\n",
    "    return total / numero\n",
    "\n",
    "promedio([80, 85, 81])"
   ]
  },
  {
   "cell_type": "code",
   "execution_count": 56,
   "id": "64b2a2ca",
   "metadata": {},
   "outputs": [
    {
     "name": "stdout",
     "output_type": "stream",
     "text": [
      "Reporte:\n",
      "    Total Promedio: 73.33333333333333%\n",
      "    Medio tanque: 78 %\n",
      "    Tanque externo: 53 %\n",
      "    Tanque de hidrogeno: 89%\n",
      "    \n"
     ]
    }
   ],
   "source": [
    "# Actualice el reporte\n",
    "def reporte(tanque_medio, tanque_externo, tanque_hidrogeno):\n",
    "    return f\"\"\"Reporte:\n",
    "    Total Promedio: {promedio([tanque_medio, tanque_externo, tanque_hidrogeno])}%\n",
    "    Medio tanque: {tanque_medio} %\n",
    "    Tanque externo: {tanque_externo} %\n",
    "    Tanque de hidrogeno: {tanque_hidrogeno}%\n",
    "    \"\"\"\n",
    "\n",
    "print(reporte(78,53,89))"
   ]
  },
  {
   "cell_type": "markdown",
   "id": "c2b571a7",
   "metadata": {},
   "source": [
    "4. Opcional. Escribe una función llamada que construya un diccionario que describe un álbum de música. La función debe tomar un nombre del artista y un título del álbum, y debe devolver un diccionario que contenga estas dos piezas de información. Utiliza la función para crear tres diccionarios que representen diferentes álbumes. Imprime cada valor devuelto para mostrar que los diccionarios almacenan la información del álbum correctamente."
   ]
  },
  {
   "cell_type": "code",
   "execution_count": 31,
   "id": "230feb17",
   "metadata": {},
   "outputs": [
    {
     "name": "stdout",
     "output_type": "stream",
     "text": [
      "{'artist': 'The Weeknd', 'álbum': 'Beauty Behind the Madness'}\n"
     ]
    }
   ],
   "source": [
    "def build_discography(artist_name, album_name):\n",
    "    artist_discography = {'artist': artist_name, 'álbum': album_name} \n",
    "    return artist_discography\n",
    "\n",
    "artist = build_discography('The Weeknd', 'Beauty Behind the Madness') \n",
    "print(artist) "
   ]
  },
  {
   "cell_type": "code",
   "execution_count": 32,
   "id": "43debc29",
   "metadata": {},
   "outputs": [
    {
     "data": {
      "text/plain": [
       "{'artist': 'Twenty One Pilots', 'álbum': 'Blurryface'}"
      ]
     },
     "execution_count": 32,
     "metadata": {},
     "output_type": "execute_result"
    }
   ],
   "source": [
    "build_discography ('Twenty One Pilots', 'Blurryface')"
   ]
  },
  {
   "cell_type": "code",
   "execution_count": 33,
   "id": "f264352c",
   "metadata": {},
   "outputs": [
    {
     "data": {
      "text/plain": [
       "{'artist': 'Bad Bunny', 'álbum': 'El último tour del mundo'}"
      ]
     },
     "execution_count": 33,
     "metadata": {},
     "output_type": "execute_result"
    }
   ],
   "source": [
    "build_discography ('Bad Bunny', 'El último tour del mundo')"
   ]
  },
  {
   "cell_type": "code",
   "execution_count": null,
   "id": "8c6402a9",
   "metadata": {},
   "outputs": [],
   "source": []
  }
 ],
 "metadata": {
  "kernelspec": {
   "display_name": "Python 3",
   "language": "python",
   "name": "python3"
  },
  "language_info": {
   "codemirror_mode": {
    "name": "ipython",
    "version": 3
   },
   "file_extension": ".py",
   "mimetype": "text/x-python",
   "name": "python",
   "nbconvert_exporter": "python",
   "pygments_lexer": "ipython3",
   "version": "3.6.15"
  }
 },
 "nbformat": 4,
 "nbformat_minor": 5
}
